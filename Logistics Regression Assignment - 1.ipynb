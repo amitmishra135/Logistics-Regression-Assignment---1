{
 "cells": [
  {
   "cell_type": "markdown",
   "id": "4b9ffe5a-6882-464c-b248-dfe5929a9004",
   "metadata": {},
   "source": [
    "Q1. Explain the difference between linear regression and logistic regression models. Provide an example of a scenario where logistic regression would be more appropriate.\n",
    "\n",
    "Answer ->"
   ]
  },
  {
   "cell_type": "markdown",
   "id": "ccb9b411-eafa-4fcb-a0f6-709d0e67223d",
   "metadata": {},
   "source": [
    "* Linear Regression: Predicts continuous outcomes.\n",
    "* Logistic Regression: Predicts categorical outcomes (typically binary).\n",
    "* Example: Predicting whether an email is spam or not spam."
   ]
  },
  {
   "cell_type": "markdown",
   "id": "e5869fb6-916f-4065-ae3f-7521bdb8fce0",
   "metadata": {},
   "source": [
    "Q2. What is the cost function used in logistic regression, and how is it optimized?\n",
    "\n",
    "Answer ->"
   ]
  },
  {
   "cell_type": "markdown",
   "id": "0252319a-7752-49f1-b8cf-422312b0bf8e",
   "metadata": {},
   "source": [
    "* Cost Function: Log-loss (binary cross-entropy).\n",
    "* Optimization: Gradient descent or similar optimization algorithms."
   ]
  },
  {
   "cell_type": "markdown",
   "id": "74847ee2-9d58-4b7f-9df9-008fb8c13664",
   "metadata": {},
   "source": [
    "Q3. Explain the concept of regularization in logistic regression and how it helps prevent overfitting.\n",
    "\n",
    "Answer ->"
   ]
  },
  {
   "cell_type": "markdown",
   "id": "ea9d1a81-9199-4fb3-84c5-6eae115a7268",
   "metadata": {},
   "source": [
    "* Regularization: Adds a penalty term to the cost function to shrink coefficients.\n",
    "* Benefit: Reduces overfitting by discouraging complex models."
   ]
  },
  {
   "cell_type": "markdown",
   "id": "cb2d1140-260f-42d7-bdac-9445f48b33a7",
   "metadata": {},
   "source": [
    "Q4. What is the ROC curve, and how is it used to evaluate the performance of the logistic regression model?\n",
    "\n",
    "Answer ->"
   ]
  },
  {
   "cell_type": "markdown",
   "id": "debf4236-a87e-4898-ae53-7cc010614bd2",
   "metadata": {},
   "source": [
    "* ROC Curve: Plots true positive rate (sensitivity) against false positive rate (1-specificity).\n",
    "* Usage: Evaluates model performance across different thresholds.\n"
   ]
  },
  {
   "cell_type": "markdown",
   "id": "3e957f6a-0ac5-47c9-b088-a5e738327cc2",
   "metadata": {},
   "source": [
    "Q5. What are some common techniques for feature selection in logistic regression? How do these techniques help improve the model's performance?\n",
    "\n",
    "Answer ->"
   ]
  },
  {
   "cell_type": "markdown",
   "id": "6e4ec6f5-90f9-44ee-9096-28115893545b",
   "metadata": {},
   "source": [
    "* Techniques: Lasso regularization, PCA, Recursive Feature Elimination (RFE).\n",
    "* Benefit: Reduces overfitting, improves interpretability and performance.\n"
   ]
  },
  {
   "cell_type": "markdown",
   "id": "7ca63c57-1100-49e5-8262-7a60958d954a",
   "metadata": {},
   "source": [
    "Q6. How can you handle imbalanced datasets in logistic regression? What are some strategies for dealing with class imbalance?\n",
    "\n",
    "Answer ->"
   ]
  },
  {
   "cell_type": "markdown",
   "id": "b6a28229-94be-4aa5-beeb-85a1caf06752",
   "metadata": {},
   "source": [
    "* Strategies: Oversampling the minority class, undersampling the majority class, using cost-sensitive learning.\n"
   ]
  },
  {
   "cell_type": "markdown",
   "id": "145fc277-388a-4001-8c7f-91f9102064b8",
   "metadata": {},
   "source": [
    "Q7. Can you discuss some common issues and challenges that may arise when implementing logistic regression, and how they can be addressed? For example, what can be done if there is multicollinearity among the independent variables?\n",
    "\n",
    "Answer ->"
   ]
  },
  {
   "cell_type": "markdown",
   "id": "483b7059-282a-455f-9cc1-c919d60c1d1e",
   "metadata": {},
   "source": [
    "* Issues: Multicollinearity.\n",
    "* Solutions: Use Ridge regression (L2 regularization) or remove highly correlated features."
   ]
  },
  {
   "cell_type": "code",
   "execution_count": null,
   "id": "e2617bc2-c5f8-467a-ba68-9354bbd5517f",
   "metadata": {},
   "outputs": [],
   "source": []
  }
 ],
 "metadata": {
  "kernelspec": {
   "display_name": "Python 3 (ipykernel)",
   "language": "python",
   "name": "python3"
  },
  "language_info": {
   "codemirror_mode": {
    "name": "ipython",
    "version": 3
   },
   "file_extension": ".py",
   "mimetype": "text/x-python",
   "name": "python",
   "nbconvert_exporter": "python",
   "pygments_lexer": "ipython3",
   "version": "3.10.8"
  }
 },
 "nbformat": 4,
 "nbformat_minor": 5
}
